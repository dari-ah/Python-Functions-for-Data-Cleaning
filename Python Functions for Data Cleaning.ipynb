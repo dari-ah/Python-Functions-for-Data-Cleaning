{
 "cells": [
  {
   "cell_type": "code",
   "execution_count": 1,
   "id": "cde82a09",
   "metadata": {},
   "outputs": [],
   "source": [
    "#import libraries\n",
    "import numpy as np\n",
    "import pandas as pd\n",
    "import xlsxwriter\n",
    "import re\n",
    "import os.path"
   ]
  },
  {
   "cell_type": "markdown",
   "id": "0f05bb8d",
   "metadata": {},
   "source": [
    "## 1. Space Remover"
   ]
  },
  {
   "cell_type": "code",
   "execution_count": null,
   "id": "11845500",
   "metadata": {},
   "outputs": [],
   "source": [
    "# Delete spaces\n",
    "def space_remover(dataframe):\n",
    "    l = []\n",
    "    for header in dataframe.columns:\n",
    "        l.append(header.strip().replace('\\n',\"\"))\n",
    "    dataframe.columns = l\n",
    "    return dataframe"
   ]
  },
  {
   "cell_type": "code",
   "execution_count": null,
   "id": "3bde64c8",
   "metadata": {},
   "outputs": [],
   "source": [
    "#Test case\n",
    "daf = pd.DataFrame({\n",
    "    'Name': [' John ', 'Mary\\n', 'Tom '],\n",
    "    'Age': [25, 30, 35],\n",
    "    'Gender': ['Male', 'Female', 'Male']\n",
    "})\n",
    "\n",
    "# print the original dataframe\n",
    "print('Original DataFrame:\\n', daf)\n",
    "\n",
    "# apply the space_remover() function to the dataframe\n",
    "new = space_remover(daf)\n",
    "\n",
    "# print the modified dataframe\n",
    "print('Modified DataFrame:\\n', new)"
   ]
  },
  {
   "cell_type": "markdown",
   "id": "8e8c90ce",
   "metadata": {},
   "source": [
    "## 2. Cut and Paste (for copy, change column name instead of delete)"
   ]
  },
  {
   "cell_type": "code",
   "execution_count": null,
   "id": "dd5f71a9",
   "metadata": {},
   "outputs": [],
   "source": [
    "#Parameter: df = the spreadsheet, copy_col = as string (header of col to be copied), local_col = as string (header of col to paste the column in front of)\n",
    "def cut_paste(df, copy_col,local_col):\n",
    "    df.rename(columns={copy_col:f'New {copy_col}'}, inplace=True)\n",
    "    idx = df.columns.get_loc(local_col)\n",
    "    df.insert(idx, copy_col, df[f'New {copy_col}'])\n",
    "    del df[f'New {copy_col}']"
   ]
  },
  {
   "cell_type": "code",
   "execution_count": 1,
   "id": "d6b9a885",
   "metadata": {},
   "outputs": [],
   "source": [
    "#Add test case and update"
   ]
  },
  {
   "cell_type": "markdown",
   "id": "a6d4cfde",
   "metadata": {},
   "source": [
    "## 3. How to Create Tables (Pivot - Count Items of a Column)"
   ]
  },
  {
   "cell_type": "code",
   "execution_count": null,
   "id": "4ea82ceb",
   "metadata": {},
   "outputs": [],
   "source": [
    "#Parameter: df = dataframe (can be a spreadsheet), col_count = as string (col header use for counting), col_display = as string (col header which the count is for)\n",
    "\n",
    "def pivot(df, col_count, col_display):\n",
    "    pd.pivot_table(df, values= col_count,index= col_display,\n",
    "               aggfunc='count')\n"
   ]
  },
  {
   "cell_type": "code",
   "execution_count": 2,
   "id": "189b7c9c",
   "metadata": {},
   "outputs": [],
   "source": [
    "#Add test case\n",
    "#Add save method such that function will output a spreadsheet contain pivot table\n",
    "#create function such that can create multiple pivot tables"
   ]
  },
  {
   "cell_type": "markdown",
   "id": "d56fbf70",
   "metadata": {},
   "source": [
    "## 4. Create Dictionary with Count of Sheet to Check"
   ]
  },
  {
   "cell_type": "markdown",
   "id": "ce1dce41",
   "metadata": {},
   "source": [
    "#### Function"
   ]
  },
  {
   "cell_type": "code",
   "execution_count": null,
   "id": "5e32198c",
   "metadata": {},
   "outputs": [],
   "source": [
    "#This funtion will be call after changes is made to the dataframe for checking purposes\n",
    "#Task: Get the original count -> need to set an original df before run\n",
    "#      Get the count after changes -> use the current df\n",
    "#      Compare the two count\n",
    "#      Output message: Item_name have the same (or difference of) count: Original(orig_num) vs New(new_num)\n",
    "#Add parameter so that can choose between counting for rows or columns"
   ]
  },
  {
   "cell_type": "markdown",
   "id": "5e4ee7d9",
   "metadata": {},
   "source": [
    "#### Orignal Code"
   ]
  },
  {
   "cell_type": "markdown",
   "id": "e645a904",
   "metadata": {},
   "source": [
    "#### For row, use shape[0]"
   ]
  },
  {
   "cell_type": "code",
   "execution_count": null,
   "id": "3cb9a307",
   "metadata": {},
   "outputs": [],
   "source": [
    "#get count of column header before start\n",
    "counts_OG = dict()\n",
    "for name, sheet in OG_data.items():\n",
    "    if name in [\"Sheet1\",\"Sheet2\",\"Sheet3\",\"Sheet4\", \"Sheet5\",\"Sheet6\"]:\n",
    "        counts_OG[name] = counts_OG.get(name, OG_data[name].shape[1])"
   ]
  },
  {
   "cell_type": "code",
   "execution_count": null,
   "id": "e9cd1034",
   "metadata": {},
   "outputs": [],
   "source": [
    "counts_OG"
   ]
  },
  {
   "cell_type": "code",
   "execution_count": null,
   "id": "79f69beb",
   "metadata": {},
   "outputs": [],
   "source": [
    "#get count of header after reorder\n",
    "counts = dict()\n",
    "for name, sheet in df.items():\n",
    "    if name in [\"Sheet1\",\"Sheet2\",\"Sheet3\",\"Sheet4\", \"Sheet5\",\"Sheet6\"]:\n",
    "        counts[name] = counts.get(name, df[name].shape[1])"
   ]
  },
  {
   "cell_type": "code",
   "execution_count": null,
   "id": "3d27e067",
   "metadata": {},
   "outputs": [],
   "source": [
    "#Check if values match\n",
    "for key, value in counts_OG.items():\n",
    "    if counts_OG[key] != counts[key]:\n",
    "        print(f\"{key} have different value, OG: {counts_OG[key]} vs New: {counts[key]}\")"
   ]
  },
  {
   "cell_type": "markdown",
   "id": "b39f1273",
   "metadata": {},
   "source": [
    "## 5. Check if value of column is different -> can be combine with Func 4"
   ]
  },
  {
   "cell_type": "markdown",
   "id": "2534f275",
   "metadata": {},
   "source": [
    "#### Orignal Code"
   ]
  },
  {
   "cell_type": "code",
   "execution_count": null,
   "id": "96838501",
   "metadata": {},
   "outputs": [],
   "source": [
    "for name, sheet in df.items():\n",
    "    if name in [\"Sheet1\",\"Sheet2\",\"Sheet3\",\"Sheet4\", \"Sheet5\",\"Sheet6\"]:\n",
    "        test = df[name]['Col1'] == df[name]['OG Col1']\n",
    "        row_num = df[name].shape[0]\n",
    "\n",
    "        count = 0\n",
    "\n",
    "        for i in range(0, row_num):\n",
    "            if test[i] == False:\n",
    "                count = count + 1\n",
    "        if count != 0:\n",
    "            print(f'{name} has a differences of {count}')"
   ]
  },
  {
   "cell_type": "code",
   "execution_count": null,
   "id": "a92c6481",
   "metadata": {},
   "outputs": [],
   "source": [
    "#quick check\n",
    "name = 'Sheet1'\n",
    "test = df[name]['Last Name'] == df[name]['OG Last Name']\n",
    "row_num = df[name].shape[0]\n",
    "\n",
    "count = 0\n",
    "\n",
    "for i in range(0, row_num):\n",
    "    if test[i] == False:\n",
    "        count = count + 1\n",
    "if count != 0:\n",
    "    print(f'{name} has a differences of {count}')"
   ]
  },
  {
   "cell_type": "markdown",
   "id": "b34ddce2",
   "metadata": {},
   "source": [
    "## 6. Loop through Rows and assign values based on Conditions"
   ]
  },
  {
   "cell_type": "markdown",
   "id": "8dce52ea",
   "metadata": {},
   "source": [
    "#### Function"
   ]
  },
  {
   "cell_type": "code",
   "execution_count": null,
   "id": "4233ba4f",
   "metadata": {},
   "outputs": [],
   "source": []
  },
  {
   "cell_type": "markdown",
   "id": "19ac1d45",
   "metadata": {},
   "source": [
    "#### Original Code"
   ]
  },
  {
   "cell_type": "code",
   "execution_count": null,
   "id": "e0756aca",
   "metadata": {},
   "outputs": [],
   "source": [
    "df['Sheetname']['test'] = 'Nan'\n",
    "test_frame = df['Sheetname']\n",
    "for i in range(0,test_frame.shape[0]):\n",
    "    if test_frame['From Number'][i] < test_frame['To Number'][i]: \n",
    "        test_frame['test'][i] = 'Check'\n",
    "    else:\n",
    "        test_frame['test'][i] = ''\n",
    "df['Sheetname']['test'] = test_frame['test']"
   ]
  },
  {
   "cell_type": "markdown",
   "id": "6bff473a",
   "metadata": {},
   "source": [
    "## 7. Reorder Columns by a Given List and Order"
   ]
  },
  {
   "cell_type": "markdown",
   "id": "c7ed49d5",
   "metadata": {},
   "source": [
    "#### Function"
   ]
  },
  {
   "cell_type": "code",
   "execution_count": null,
   "id": "dfee21b6",
   "metadata": {},
   "outputs": [],
   "source": []
  },
  {
   "cell_type": "markdown",
   "id": "ea7d3e96",
   "metadata": {},
   "source": [
    "#### Original Code"
   ]
  },
  {
   "cell_type": "code",
   "execution_count": null,
   "id": "19c07a4b",
   "metadata": {},
   "outputs": [],
   "source": [
    "#create a copy to check\n",
    "OG_data = pd.read_excel('./'+ file + '/'+ file +' Data.xlsx', sheet_name = None)"
   ]
  },
  {
   "cell_type": "code",
   "execution_count": null,
   "id": "af2dae3c",
   "metadata": {},
   "outputs": [],
   "source": [
    "#get count of column header before start\n",
    "counts_OG = dict()\n",
    "for name, sheet in OG_data.items():\n",
    "    if name in [\"Sheet1\",\"Sheet2\",\"Sheet3\",\"Sheet4\", \"Sheet5\",\"Sheet6\"]:\n",
    "        counts_OG[name] = counts_OG.get(name, OG_data[name].shape[1])\n",
    "counts_OG"
   ]
  },
  {
   "cell_type": "code",
   "execution_count": null,
   "id": "a0d277f9",
   "metadata": {},
   "outputs": [],
   "source": [
    "##Reorder first columns\n",
    "col = ['col1', 'col2','col3']\n",
    "col2 = ['col1', 'col2','col3']\n",
    "temp = df\n",
    "for name, sheet in df.items():\n",
    "    if name in [\"Sheet1\",\"Sheet2\",\"Sheet3\",\"Sheet4\", \"Sheet5\",\"Sheet6\"]:\n",
    "        df_list = df[name][col]\n",
    "        df_j = temp[name].drop(col, axis=1)\n",
    "        \n",
    "        #join data horizontally\n",
    "        df_i = pd.concat([df_list,df_j],axis=1)\n",
    "        df[name] = df_i\n",
    "        \n",
    "        \n",
    "    elif name == \"Sheet1\":\n",
    "        df_list = df[name][col2]\n",
    "        df_j = temp[name].drop(col2, axis=1)\n",
    "        \n",
    "        #join data horizontally\n",
    "        df_i = pd.concat([df_list,df_j],axis=1)\n",
    "        df[name] = df_i"
   ]
  },
  {
   "cell_type": "code",
   "execution_count": null,
   "id": "4711bd8e",
   "metadata": {},
   "outputs": [],
   "source": [
    "#Check if values match\n",
    "for key, value in counts_OG.items():\n",
    "    if counts_OG[key] != counts[key]:\n",
    "        print(f\"{key} have different value, OG: {counts_OG[key]} vs New: {counts[key]}\")"
   ]
  },
  {
   "cell_type": "code",
   "execution_count": null,
   "id": "e756902d",
   "metadata": {},
   "outputs": [],
   "source": [
    "#Check if all columns in OG data are in the new one\n",
    "for name, sheet in df.items():\n",
    "    if name in [\"Sheet1\",\"Sheet2\",\"Sheet3\",\"Sheet4\", \"Sheet5\",\"Sheet6\"]:\n",
    "        l = []\n",
    "        for header in OG_data[name].columns:\n",
    "            if header not in df[name].columns:\n",
    "                l.append(header)\n",
    "        if len(l) > 0:\n",
    "            print(f\"New {name} Tab is missing the following headers: {l}\")"
   ]
  },
  {
   "cell_type": "code",
   "execution_count": null,
   "id": "003d74c0",
   "metadata": {},
   "outputs": [],
   "source": [
    "#Push changes to Excel\n",
    "with pd.ExcelWriter(data_path,engine=\"xlsxwriter\") as writer:\n",
    "    for name, sheet in df.items():\n",
    "        df[name].to_excel(writer,sheet_name=name,index=False)\n",
    "#writer.save()\n",
    "writer.close()"
   ]
  },
  {
   "cell_type": "markdown",
   "id": "99d9e0ac",
   "metadata": {},
   "source": [
    "## 8. Loop Through Rows and Make Each Cell Content Proper Case"
   ]
  },
  {
   "cell_type": "markdown",
   "id": "cce0f482",
   "metadata": {},
   "source": [
    "#### Function"
   ]
  },
  {
   "cell_type": "code",
   "execution_count": null,
   "id": "d82b9bf7",
   "metadata": {},
   "outputs": [],
   "source": []
  }
 ],
 "metadata": {
  "kernelspec": {
   "display_name": "Python 3 (ipykernel)",
   "language": "python",
   "name": "python3"
  },
  "language_info": {
   "codemirror_mode": {
    "name": "ipython",
    "version": 3
   },
   "file_extension": ".py",
   "mimetype": "text/x-python",
   "name": "python",
   "nbconvert_exporter": "python",
   "pygments_lexer": "ipython3",
   "version": "3.9.13"
  }
 },
 "nbformat": 4,
 "nbformat_minor": 5
}
